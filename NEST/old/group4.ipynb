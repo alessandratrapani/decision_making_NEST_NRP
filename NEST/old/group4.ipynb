{
  "cells": [
    {
      "cell_type": "code",
      "execution_count": null,
      "metadata": {
        "id": "cwc2H3WimgJ2",
        "outputId": "3204eae6-ceb8-4ef0-ab7e-c948d021e0d7"
      },
      "outputs": [
        {
          "name": "stdout",
          "output_type": "stream",
          "text": [
            "NEST HEAD@63efc4393\n"
          ]
        }
      ],
      "source": [
        "import numpy\n",
        "import time\n",
        "import matplotlib.pyplot as plt\n",
        "import os\n",
        "import sys \n",
        "import nest\n",
        "import nest.raster_plot\n",
        "print(nest.version())\n",
        "\n",
        "nest.ResetKernel()\n",
        "startbuild = time.time()"
      ]
    },
    {
      "cell_type": "markdown",
      "metadata": {
        "id": "jaY6139UmgKG"
      },
      "source": [
        "#### Definition of normalization functions\n",
        "These functions compute the post-synaptic potential (PSP) based on the neurons' membrane parameters and synaptic decay"
      ]
    },
    {
      "cell_type": "code",
      "execution_count": null,
      "metadata": {
        "id": "P_-0thPvmgKQ"
      },
      "outputs": [],
      "source": [
        "def LambertWm1(x):\n",
        "    return nest.ll_api.sli_func('LambertWm1', float(x))\n",
        "\n",
        "def ComputePSPNorm(tau_mem, C_mem, tau_syn):\n",
        "    a = (tau_mem / tau_syn)\n",
        "    b = (1.0 / tau_syn -1.0 / tau_mem)\n",
        "    t_max = 1.0 / b * (-LambertWm1(-numpy.exp(-1.0/a)/a) - 1.0 / a)\n",
        "    return (numpy.exp(1.0) / (tau_syn * (C_mem * b) * \n",
        "            ((numpy.exp( -t_max / tau_mem) - numpy.exp(-t_max / tau_syn)) / b - \n",
        "            t_max * numpy.exp(-t_max / tau_syn))))"
      ]
    },
    {
      "cell_type": "markdown",
      "metadata": {
        "id": "TfbPxsapmgKU"
      },
      "source": [
        "#### Assigning the simulation parameters to variables."
      ]
    },
    {
      "cell_type": "code",
      "execution_count": null,
      "metadata": {
        "id": "QOVtH9YjmgKW"
      },
      "outputs": [],
      "source": [
        "dt = 0.1    # the resolution in ms\n",
        "simtime = 1000.0  # Simulation time in ms\n",
        "delay_AMPA = 30.0  # synaptic delay in ms\n",
        "delay_NMDA = 30.0\n",
        "delay_GABA = 0.5\n",
        "delay_noise = 25.\n",
        "delay_stim = delay_noise"
      ]
    },
    {
      "cell_type": "code",
      "execution_count": null,
      "metadata": {
        "id": "a7m6TM5xmgKX"
      },
      "outputs": [],
      "source": [
        "g = 5.0  # ratio inhibitory weight/excitatory weight\n",
        "eta_ex = 0.7 # external rate relative to threshold rate\n",
        "eta_in = 0.701\n",
        "eta_stim = 0.11 #DA CAMBIARE \n",
        "\n",
        "epsilon_ex_AB = 0.075  # connection probability \n",
        "epsilon_ex_in = 0.15\n",
        "epsilon_in_AB = 0.493\n",
        "epsilon_rec_ex = 0.3\n",
        "epsilon_rec_in = 0.2\n",
        "\n",
        "epsilon_ex_tot = epsilon_ex_AB + epsilon_rec_ex + epsilon_ex_in"
      ]
    },
    {
      "cell_type": "markdown",
      "metadata": {
        "id": "cxs-NaCFmgKZ"
      },
      "source": [
        "Network numerosities "
      ]
    },
    {
      "cell_type": "code",
      "execution_count": null,
      "metadata": {
        "id": "ELZuMK76mgKa"
      },
      "outputs": [],
      "source": [
        "order = 200\n",
        "NA = 2 * order  # number of excitatory neurons in pop A\n",
        "NB = 2 * order  # number of excitatory neurons in pop B\n",
        "NI = 1 * order  # number of inhibitory neurons\n",
        "N_neurons = NA + NB + NI   # number of neurons in total\n",
        "N_rec = order * (2+2+1)  # record from all neurons"
      ]
    },
    {
      "cell_type": "markdown",
      "metadata": {
        "id": "pDRE13CemgKc"
      },
      "source": [
        "#### Definition of connectivity parameters"
      ]
    },
    {
      "cell_type": "code",
      "execution_count": null,
      "metadata": {
        "id": "2ZvYfTpymgKh"
      },
      "outputs": [],
      "source": [
        "CA = int(epsilon_ex_tot * NA)\n",
        "CE = int(epsilon_ex_tot * (NA + NB))  # number of excitatory synapses per neuron #TODO: synapses per neuron should be NMDA+AMPA\n",
        "CI = int(epsilon_in * NI)  # number of inhibitory synapses per neuron\n",
        "C_tot = int(CI + CE)      # total number of synapses per neuron"
      ]
    },
    {
      "cell_type": "markdown",
      "metadata": {
        "id": "tmw3UAHmmgKi"
      },
      "source": [
        "#### Initialization of the parameters of the integrate and fire neurons and synapses. \n"
      ]
    },
    {
      "cell_type": "code",
      "execution_count": null,
      "metadata": {
        "id": "k5D_n9o6mgKk"
      },
      "outputs": [],
      "source": [
        "tauMem = 20.0  # time constant of membrane potential in ms\n",
        "theta = -55.0  # membrane threshold potential in mV\n",
        "\n",
        "nr_ports = 4  # number of receptor types (noise-related, AMPA, NMDA, GABA)\n",
        "tau_syn = [14.1, 2., 100., 5.0]  # [ms] DECAY\n",
        "\n",
        "V_membrane = -70.0  # mV \n",
        "V_threshold = -50.0  # mV\n",
        "V_reset = -55.0  # mV "
      ]
    },
    {
      "cell_type": "markdown",
      "metadata": {
        "id": "9CUxDNWDmgKl"
      },
      "source": [
        "Storing the excitatory and inhibitory neurons' parameters in corresponding dictionaries\n",
        "#### Excitatory"
      ]
    },
    {
      "cell_type": "code",
      "execution_count": null,
      "metadata": {
        "id": "q4oPAomHmgKm"
      },
      "outputs": [],
      "source": [
        "exc_neuron_params = {\n",
        "    \"E_L\": V_membrane,\n",
        "    \"V_th\": V_threshold,\n",
        "    \"V_reset\": V_reset,\n",
        "    \"C_m\": 500.0,  # pF (0.5nF)\n",
        "    \"tau_m\": 20.0,\n",
        "    \"t_ref\": 2.0, \n",
        "    \"tau_syn\": tau_syn\n",
        "}"
      ]
    },
    {
      "cell_type": "markdown",
      "metadata": {
        "id": "bNXQEroemgKn"
      },
      "source": [
        "#### Inhibitory"
      ]
    },
    {
      "cell_type": "code",
      "execution_count": null,
      "metadata": {
        "id": "BJpl4ztPmgKo"
      },
      "outputs": [],
      "source": [
        "inh_neuron_params = {\n",
        "    \"E_L\": V_membrane,\n",
        "    \"V_th\": V_threshold,\n",
        "    \"V_reset\": V_reset,\n",
        "    \"C_m\": 200.0,  # pF (0.2nF)  \n",
        "    \"tau_m\": 10.0,\n",
        "    \"t_ref\": 1.0,\n",
        "    \"tau_syn\": tau_syn \n",
        "} "
      ]
    },
    {
      "cell_type": "markdown",
      "metadata": {
        "id": "fuZb9FI3mgKq"
      },
      "source": [
        "The synaptic currents are normalized such that the amplitude of the PSP is J and each connection weight is calibrated on the specific neurotransmitter time constant (from Brunel 2001)"
      ]
    },
    {
      "cell_type": "code",
      "execution_count": null,
      "metadata": {
        "id": "ksq_M_NomgKs",
        "outputId": "990b2d8c-e81b-48fe-f770-813c7a631d92"
      },
      "outputs": [
        {
          "name": "stderr",
          "output_type": "stream",
          "text": [
            "<ipython-input-340-dfe316cc6e7d>:8: RuntimeWarning:divide by zero encountered in double_scalars\n"
          ]
        }
      ],
      "source": [
        "J = 0.1 # mV -> this means that it takes 200 simultaneous events to drive the spiking activity \n",
        "\n",
        "J_unit_noise = ComputePSPNorm(20.0, 500.0, 14.1)\n",
        "J_norm_noise = J / J_unit_noise \n",
        "\n",
        "J_norm_stim = J_norm_noise\n",
        "\n",
        "J_unit_AMPA = ComputePSPNorm(20.0, 500.0, 2.0)\n",
        "J_norm_AMPA = J / J_unit_AMPA \n",
        "\n",
        "J_unit_NMDA = ComputePSPNorm(20.0, 500.0, 100.0)\n",
        "J_norm_NMDA = J / J_unit_NMDA \n",
        "\n",
        "J_unit_GABA = ComputePSPNorm(10.0, 200.0, 5.0) \n",
        "J_norm_GABA = J / J_unit_GABA"
      ]
    },
    {
      "cell_type": "markdown",
      "metadata": {
        "id": "Igjjy6VxmgKt"
      },
      "source": [
        "Definition of threshold rate, which is the external rate needed to fix the membrane potential around its threshold, the external firing rate and the rate of the poisson generator which is multiplied by the in-degree CE and converted to Hz by multiplication by 1000."
      ]
    },
    {
      "cell_type": "code",
      "execution_count": null,
      "metadata": {
        "id": "YoWJlma8mgKv"
      },
      "outputs": [],
      "source": [
        "nu_th_noise = (numpy.abs(V_threshold) * 500.0) / (J_norm_noise * CE * numpy.exp(1) * 20.0 * 10.0)\n",
        "nu_ex = eta_ex*nu_th_noise\n",
        "p_rate = 1000.0 * nu_ex * CE"
      ]
    },
    {
      "cell_type": "code",
      "execution_count": null,
      "metadata": {
        "id": "lMIconlZmgKy",
        "outputId": "7bdca141-5caf-46f9-ad57-b8cb09301a14"
      },
      "outputs": [
        {
          "name": "stdout",
          "output_type": "stream",
          "text": [
            "3389.6845139365055\n",
            "4231.061269178947\n"
          ]
        }
      ],
      "source": [
        "nu_th_noise_in = (numpy.abs(V_threshold) * 200.0) / (J_norm_noise * CI * numpy.exp(1) * 10.0 * 10.0)\n",
        "nu_in = eta_in * nu_th_noise_in\n",
        "p_rate_in = 1000.0 * nu_in * CI\n",
        "\n",
        "print(p_rate_in)\n",
        "print(p_rate)"
      ]
    },
    {
      "cell_type": "code",
      "execution_count": null,
      "metadata": {
        "id": "gRmo02oAmgKz",
        "outputId": "39dda515-444d-4975-a865-0dfbb8f9b3aa"
      },
      "outputs": [
        {
          "name": "stdout",
          "output_type": "stream",
          "text": [
            "664.8810565852633\n"
          ]
        }
      ],
      "source": [
        "nu_th_stim = (numpy.abs(V_threshold) * 500.0) / (J_norm_stim * CA * numpy.exp(1) * 20.0 * 10.0)\n",
        "nu_stim = eta_stim * nu_th_stim\n",
        "p_rate_stim = 1000.0 * nu_stim * CA\n",
        "\n",
        "print(p_rate_stim)"
      ]
    },
    {
      "cell_type": "markdown",
      "metadata": {
        "id": "AUJRwiKLmgK0"
      },
      "source": [
        "Configuration of the simulation kernel by the previously defined time resolution used in the simulation. Setting print_time to True prints the already processed simulation time as well as its percentage of the total simulation time."
      ]
    },
    {
      "cell_type": "code",
      "execution_count": null,
      "metadata": {
        "id": "dkCKMO8ZmgK1"
      },
      "outputs": [],
      "source": [
        "nest.SetKernelStatus({\"resolution\": dt, \"print_time\": True,\n",
        "                      \"overwrite_files\": True})"
      ]
    },
    {
      "cell_type": "markdown",
      "metadata": {
        "id": "TXbc_H0TmgK2"
      },
      "source": [
        "### Building the network\n",
        "Creation of the nodes using Create. We store the returned handles in variables for later reference. Here the excitatory and inhibitory, as well as the poisson generator and three spike recorders. The spike recorders will later be used to record excitatory and inhibitory spikes. Properties of the nodes are specified via SetDefaults, which expects a dictionary."
      ]
    },
    {
      "cell_type": "code",
      "execution_count": null,
      "metadata": {
        "id": "FX0xU-LvmgK2"
      },
      "outputs": [],
      "source": [
        "nest.SetDefaults(\"iaf_psc_exp_multisynapse\", exc_neuron_params)\n",
        "pop_A = nest.Create(\"iaf_psc_exp_multisynapse\", NA)\n",
        "pop_B = nest.Create(\"iaf_psc_exp_multisynapse\", NB)\n",
        "\n",
        "nest.SetDefaults(\"iaf_psc_exp_multisynapse\", inh_neuron_params)\n",
        "pop_inh = nest.Create(\"iaf_psc_exp_multisynapse\", NI)\n",
        "\n",
        "nest.SetDefaults(\"poisson_generator\", {\"rate\": p_rate})\n",
        "PG_noise = nest.Create(\"poisson_generator\")\n",
        "\n",
        "nest.SetDefaults(\"poisson_generator\", {\"rate\": p_rate_in})\n",
        "PG_noise_in = nest.Create(\"poisson_generator\")\n",
        "\n",
        "nest.SetDefaults(\"poisson_generator\", {\"rate\": p_rate_stim, \"origin\": 0., \"start\": 200.,\"stop\": 600.})\n",
        "PG_stim = nest.Create(\"poisson_generator\")\n",
        "#TODO check stimolo più lungo(saturazione?) e stimolo più corto(still ramping?)\n",
        "\n",
        "spikes_a = nest.Create(\"spike_detector\")\n",
        "spikes_b = nest.Create(\"spike_detector\")\n",
        "spikes_i = nest.Create(\"spike_detector\")"
      ]
    },
    {
      "cell_type": "markdown",
      "metadata": {
        "id": "iJYWiRFdmgK3"
      },
      "source": [
        "#### Assign NEST-related details to populations"
      ]
    },
    {
      "cell_type": "code",
      "execution_count": null,
      "metadata": {
        "id": "7sJQ3pijmgK4"
      },
      "outputs": [],
      "source": [
        "nest.SetStatus(spikes_a, [{\"label\": \"Exc. pop. A\",\n",
        "                          \"withtime\": True,\n",
        "                          \"withgid\": True,\n",
        "                          \"to_file\": True}])\n",
        "\n",
        "nest.SetStatus(spikes_b, [{\"label\": \"Exc. pop. B\",\n",
        "                          \"withtime\": True,\n",
        "                          \"withgid\": True,\n",
        "                          \"to_file\": True}])\n",
        "\n",
        "nest.SetStatus(spikes_i, [{\"label\": \"Inh. pop.\",\n",
        "                          \"withtime\": True,\n",
        "                          \"withgid\": True,\n",
        "                          \"to_file\": True}])"
      ]
    },
    {
      "cell_type": "markdown",
      "metadata": {
        "id": "MSyqkEqVmgK5"
      },
      "source": [
        "### Synapse model definition\n",
        "Definition of a synapse using CopyModel, which expects the model name of a pre-defined synapse, the name of the customary synapse and an optional parameter dictionary. The parameters defined in the dictionary will be the default parameter for the customary synapse. Here we define one synapse for the excitatory and one for the inhibitory connections giving the previously defined weights and equal delays."
      ]
    },
    {
      "cell_type": "code",
      "execution_count": null,
      "metadata": {
        "id": "62V-UlUhmgK5"
      },
      "outputs": [],
      "source": [
        "nest.CopyModel(\"static_synapse\", \"excitatory_AMPA\",\n",
        "               {\"weight\": J_norm_AMPA, \"delay\": delay_AMPA})\n",
        "nest.CopyModel(\"static_synapse\", \"excitatory_NMDA\",\n",
        "               {\"weight\": J_norm_NMDA, \"delay\": delay_NMDA})\n",
        "nest.CopyModel(\"static_synapse\", \"noise_syn\",\n",
        "               {\"weight\": J_norm_noise, \"delay\": delay_noise})\n",
        "nest.CopyModel(\"static_synapse\", \"excitatory_stim\",\n",
        "               {\"weight\": J_norm_stim, \"delay\": delay_stim})\n",
        "nest.CopyModel(\"static_synapse\", \"inhibitory\",\n",
        "               {\"weight\": -J_norm_GABA, \"delay\": delay_GABA})"
      ]
    },
    {
      "cell_type": "markdown",
      "metadata": {
        "id": "RTkpXbePmgK6"
      },
      "source": [
        "Assign the corresponding receptor type to each of the synapses models defined above "
      ]
    },
    {
      "cell_type": "code",
      "execution_count": null,
      "metadata": {
        "id": "DFj9jeo4mgK7"
      },
      "outputs": [],
      "source": [
        "noise_syn = {\"model\": \"noise_syn\",\n",
        "                 \"receptor_type\": 1}\n",
        "stim_syn = {\"model\": \"excitatory_stim\",\n",
        "                 \"receptor_type\": 1}\n",
        "AMPA_syn = {\"model\": \"excitatory_AMPA\",\n",
        "                 \"receptor_type\": 2}\n",
        "NMDA_syn = {\"model\": \"excitatory_NMDA\",\n",
        "                 \"receptor_type\": 3}\n",
        "GABA_syn = {\"model\": \"inhibitory\",\n",
        "                 \"receptor_type\": 4}"
      ]
    },
    {
      "cell_type": "markdown",
      "metadata": {
        "id": "nox_i_ybmgK7"
      },
      "source": [
        "### Connecting Devices\n",
        "Connecting the previously defined poisson generator to the excitatory and inhibitory neurons using the excitatory synapse. Since the poisson generator is connected to all neurons in the population the default rule (all_to_all) of Connect is used. The synaptic properties are inserted via syn_spec which expects a dictionary when defining multiple variables or a string when simply using a pre-defined synapse."
      ]
    },
    {
      "cell_type": "code",
      "execution_count": null,
      "metadata": {
        "id": "R2u1ooTxmgK8"
      },
      "outputs": [],
      "source": [
        "#noise rate dep to number of syns\n",
        "#External noise to populations\n",
        "nest.Connect(PG_noise, pop_A, syn_spec=noise_syn)\n",
        "nest.Connect(PG_noise, pop_B, syn_spec=noise_syn)\n",
        "nest.Connect(PG_noise_in, pop_inh, syn_spec=noise_syn)\n",
        "nest.Connect(PG_stim, pop_A, syn_spec=stim_syn)\n",
        "#Recording devices\n",
        "nest.Connect(pop_A, spikes_a)\n",
        "nest.Connect(pop_B, spikes_b)\n",
        "nest.Connect(pop_inh, spikes_i)"
      ]
    },
    {
      "cell_type": "markdown",
      "metadata": {
        "id": "0pg0rhnNmgK9"
      },
      "source": [
        "### Connecting Network\n",
        "Connecting the <b>excitatory population</b>  to all neurons using the pre-defined excitatory synapse. Beforehand, the connection parameter are defined in a dictionary. Here we use the connection rule pairwise_bernoulli, which requires the connection probabilities of having a synapse between two population. Since the synapse specification is reduced to assigning the pre-defined excitatory synapse it suffices to insert a string."
      ]
    },
    {
      "cell_type": "markdown",
      "metadata": {
        "id": "K406gr0kmgK-"
      },
      "source": [
        "#### Population A"
      ]
    },
    {
      "cell_type": "code",
      "execution_count": null,
      "metadata": {
        "id": "U9nKMXnemgLC"
      },
      "outputs": [],
      "source": [
        "# Recurrent\n",
        "conn_params_rec_ex = {'rule': 'pairwise_bernoulli', 'p': epsilon_rec_ex}\n",
        "nest.Connect(pop_A, pop_A, conn_params_rec_ex, AMPA_syn)\n",
        "nest.Connect(pop_A, pop_A, conn_params_rec_ex, NMDA_syn)\n",
        "# To pop B\n",
        "conn_params_ex_AB = {'rule': 'pairwise_bernoulli', 'p': epsilon_ex_AB}\n",
        "nest.Connect(pop_A, pop_B, conn_params_ex_AB, AMPA_syn)\n",
        "nest.Connect(pop_A, pop_B, conn_params_ex_AB, NMDA_syn)\n",
        "# To pop inh.\n",
        "conn_params_ex_in = {'rule': 'pairwise_bernoulli', 'p': epsilon_ex_in}\n",
        "nest.Connect(pop_A, pop_inh, conn_params_ex_in, AMPA_syn)\n",
        "nest.Connect(pop_A, pop_inh, conn_params_ex_in, NMDA_syn)"
      ]
    },
    {
      "cell_type": "markdown",
      "metadata": {
        "id": "rty0GZIZmgLD"
      },
      "source": [
        "#### Population B"
      ]
    },
    {
      "cell_type": "code",
      "execution_count": null,
      "metadata": {
        "id": "KY2XFMS6mgLE"
      },
      "outputs": [],
      "source": [
        "# Recurrent\n",
        "conn_params_rec_ex = {'rule': 'pairwise_bernoulli', 'p': epsilon_rec_ex}\n",
        "nest.Connect(pop_B, pop_B, conn_params_rec_ex, AMPA_syn)\n",
        "nest.Connect(pop_B, pop_B, conn_params_rec_ex, NMDA_syn)\n",
        "# To pop A\n",
        "conn_params_ex_AB = {'rule': 'pairwise_bernoulli', 'p': epsilon_ex_AB}\n",
        "nest.Connect(pop_B, pop_A, conn_params_ex_AB, AMPA_syn)\n",
        "nest.Connect(pop_B, pop_A, conn_params_ex_AB, NMDA_syn)\n",
        "# To pop inh.\n",
        "conn_params_ex_in = {'rule': 'pairwise_bernoulli', 'p': epsilon_ex_in}\n",
        "nest.Connect(pop_B, pop_inh, conn_params_ex_in, AMPA_syn)\n",
        "nest.Connect(pop_B, pop_inh, conn_params_ex_in, NMDA_syn)"
      ]
    },
    {
      "cell_type": "markdown",
      "metadata": {
        "id": "B4APv9cQmgLF"
      },
      "source": [
        "Connecting the <b>inhibitory population</b> to all neurons using the pre-defined inhibitory synapse. The connection parameter as well as the synapse parameter are defined analogously to the connection from the excitatory population defined above."
      ]
    },
    {
      "cell_type": "markdown",
      "metadata": {
        "id": "HleEqmgtmgLG"
      },
      "source": [
        "#### Inhibitory population"
      ]
    },
    {
      "cell_type": "code",
      "execution_count": null,
      "metadata": {
        "id": "iIy0dwOKmgLH"
      },
      "outputs": [],
      "source": [
        "# Recurrent\n",
        "conn_params_rec_in = {'rule': 'pairwise_bernoulli', 'p': epsilon_rec_in}\n",
        "nest.Connect(pop_inh, pop_inh, conn_params_rec_in, GABA_syn) \n",
        "# To pop A\n",
        "conn_params_in = {'rule': 'pairwise_bernoulli', 'p': epsilon_in}\n",
        "nest.Connect(pop_inh, pop_A, conn_params_in, GABA_syn)\n",
        "# To pop B\n",
        "nest.Connect(pop_inh, pop_B, conn_params_in, GABA_syn)"
      ]
    },
    {
      "cell_type": "markdown",
      "metadata": {
        "id": "xH52iz3ImgLT"
      },
      "source": [
        "### Simulation of the network."
      ]
    },
    {
      "cell_type": "code",
      "execution_count": null,
      "metadata": {
        "id": "2xU9JrxBmgLU",
        "outputId": "8591044e-77e1-4874-b807-2132a40fdaf6"
      },
      "outputs": [
        {
          "name": "stdout",
          "output_type": "stream",
          "text": [
            "Simulating\n"
          ]
        }
      ],
      "source": [
        "endbuild = time.time() # Storage of the time point after the buildup of the network in a variable.\n",
        "print(\"Simulating\")\n",
        "nest.Simulate(simtime)\n",
        "endsimulate = time.time() # Storage of the time point after the simulation of the network in a variable."
      ]
    },
    {
      "cell_type": "code",
      "execution_count": null,
      "metadata": {
        "id": "AjoKEo5amgLV"
      },
      "outputs": [],
      "source": [
        "# Reading out the total number of spikes received from the spike recorder connected to \n",
        "# the excitatory population and the inhibitory population.\n",
        "events_ex_a = nest.GetStatus(spikes_a, \"n_events\")[0]\n",
        "events_ex_b = nest.GetStatus(spikes_b, \"n_events\")[0]\n",
        "events_in = nest.GetStatus(spikes_i, \"n_events\")[0]\n",
        "events_ex = events_ex_a + events_ex_b\n",
        "\n",
        "# Calculation of the average firing rate of the excitatory and the inhibitory neurons \n",
        "# by dividing the total number of recorded spikes by the number of neurons recorded from and the simulation time. \n",
        "# The multiplication by 1000.0 converts the unit 1/ms to 1/s=Hz.\n",
        "rate_ex = events_ex / simtime * 1000.0 /(NA+NB)\n",
        "rate_in = events_in / simtime * 1000.0 / NI\n",
        "rate_ex_a = events_ex_a / simtime * 1000.0 / NA\n",
        "rate_ex_b = events_ex_b/ simtime * 1000.0 / NB\n",
        "\n",
        "# Reading out the number of connections established using the excitatory and inhibitory synapse model. \n",
        "# The numbers are summed up resulting in the total number of synapses.\n",
        "num_synapses = (nest.GetDefaults(\"excitatory_AMPA\")[\"num_connections\"] +\n",
        "                nest.GetDefaults(\"excitatory_NMDA\")[\"num_connections\"] +\n",
        "                nest.GetDefaults(\"inhibitory\")[\"num_connections\"])"
      ]
    },
    {
      "cell_type": "code",
      "execution_count": null,
      "metadata": {
        "id": "3izIsBtFmgLW",
        "outputId": "959262db-5172-4721-fee4-969118f90427"
      },
      "outputs": [
        {
          "name": "stdout",
          "output_type": "stream",
          "text": [
            "Excitatory rate A  : 66.61 Hz\n",
            "Excitatory rate B  : 0.29 Hz\n",
            "Inhibitory rate   : 83.55 Hz\n",
            "Building time     : 1.36 s\n",
            "Simulation time   : 4.80 s\n",
            "Simulation time   : 1000.00 s\n"
          ]
        }
      ],
      "source": [
        "# Establishing the time it took to build and simulate the network by taking the difference of \n",
        "# the pre-defined time variables.\n",
        "build_time = endbuild - startbuild\n",
        "sim_time = endsimulate - endbuild\n",
        "# Printing the network properties, firing rates and building times.\n",
        "print(\"Excitatory rate A  : %.2f Hz\" % rate_ex_a)\n",
        "print(\"Excitatory rate B  : %.2f Hz\" % rate_ex_b)\n",
        "print(\"Inhibitory rate   : %.2f Hz\" % rate_in)   \n",
        "print(\"Building time     : %.2f s\" % build_time)\n",
        "print(\"Simulation time   : %.2f s\" % sim_time)\n",
        "print(\"Simulation time   : %.2f s\" % simtime)"
      ]
    },
    {
      "cell_type": "markdown",
      "metadata": {
        "id": "_N4qkGplmgLX"
      },
      "source": [
        "### Plot network activity\n",
        "Plot a raster of the neurons and a histogram (excitatory:from 1 to 800; inhibitory: from 801 to 1000)"
      ]
    },
    {
      "cell_type": "code",
      "execution_count": null,
      "metadata": {
        "id": "KpaXPklmmgLX",
        "outputId": "71829f63-3b68-4fca-c270-43b511654be7"
      },
      "outputs": [
        {
          "data": {
            "image/png": "[encoded data removed]",
            "text/plain": [
              "<Figure size 432x288 with 2 Axes>"
            ]
          },
          "metadata": {
            "needs_background": "light"
          },
          "output_type": "display_data"
        },
        {
          "data": {
            "image/png": "[encoded data removed]",
            "text/plain": [
              "<Figure size 432x288 with 2 Axes>"
            ]
          },
          "metadata": {
            "needs_background": "light"
          },
          "output_type": "display_data"
        },
        {
          "data": {
            "image/png": "[encoded data removed]",
            "text/plain": [
              "<Figure size 432x288 with 2 Axes>"
            ]
          },
          "metadata": {
            "needs_background": "light"
          },
          "output_type": "display_data"
        }
      ],
      "source": [
        "nest.raster_plot.from_device(spikes_a, hist=True, hist_binwidth=20)\n",
        "nest.raster_plot.from_device(spikes_b, hist=True, hist_binwidth=20)\n",
        "nest.raster_plot.from_device(spikes_i, hist=True, hist_binwidth=20)\n",
        "plt.show()"
      ]
    },
    {
      "cell_type": "code",
      "execution_count": null,
      "metadata": {
        "id": "2sCTTwjCmgLY"
      },
      "outputs": [],
      "source": []
    },
    {
      "cell_type": "code",
      "execution_count": null,
      "metadata": {
        "id": "ckUN5wrOmgLZ"
      },
      "outputs": [],
      "source": []
    },
    {
      "cell_type": "code",
      "execution_count": null,
      "metadata": {
        "id": "05KP1GAcmgLZ"
      },
      "outputs": [],
      "source": []
    }
  ],
  "metadata": {
    "colab": {
      "name": "PW_CompuNeuro_Team4_Notebook.ipynb",
      "provenance": []
    },
    "kernelspec": {
      "display_name": "Python 3",
      "language": "python",
      "name": "python3"
    },
    "language_info": {
      "codemirror_mode": {
        "name": "ipython",
        "version": 3
      },
      "file_extension": ".py",
      "mimetype": "text/x-python",
      "name": "python",
      "nbconvert_exporter": "python",
      "pygments_lexer": "ipython3",
      "version": "3.8.5"
    }
  },
  "nbformat": 4,
  "nbformat_minor": 0
}
