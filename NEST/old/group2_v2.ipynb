{
 "cells": [
  {
   "cell_type": "code",
   "execution_count": 1,
   "metadata": {},
   "outputs": [
    {
     "name": "stdout",
     "output_type": "stream",
     "text": [
      "NEST nest-2.18.0\n"
     ]
    }
   ],
   "source": [
    "import numpy\n",
    "import time\n",
    "import matplotlib.pyplot as plt\n",
    "import os\n",
    "import sys \n",
    "import nest\n",
    "import nest.raster_plot\n",
    "print(nest.version())\n",
    "\n",
    "nest.ResetKernel()\n",
    "startbuild = time.time()"
   ]
  },
  {
   "cell_type": "code",
   "execution_count": 2,
   "metadata": {},
   "outputs": [],
   "source": [
    "#  BEST RESULT\n",
    "\n",
    "# dt = 0.02    # the resolution in ms\n",
    "# delay = 1.0    # synaptic delay in ms\n",
    "# epsilon = 0.4  # connection probability\n",
    "# J = 0.07   # postsynaptic amplitude in mV\n",
    "# tau_syn = [5., 2., 100., 5.]  # [ms]\n",
    "# V_reset = -55.0  # mV \n"
   ]
  },
  {
   "cell_type": "markdown",
   "metadata": {},
   "source": [
    "#### Definition of normalization functions\n",
    "These functions compute the post-synaptic potential (PSP) based on the neurons' membrane parameters and synaptic decay"
   ]
  },
  {
   "cell_type": "code",
   "execution_count": 3,
   "metadata": {},
   "outputs": [],
   "source": [
    "def LambertWm1(x):\n",
    "    return nest.ll_api.sli_func('LambertWm1', float(x))\n",
    "\n",
    "def ComputePSPNorm(tau_mem, C_mem, tau_syn):\n",
    "    a = (tau_mem / tau_syn)\n",
    "    b = (1.0 / tau_syn -1.0 / tau_mem)\n",
    "    t_max = 1.0 / b * (-LambertWm1(-numpy.exp(-1.0/a)/a) - 1.0 / a)\n",
    "    return (numpy.exp(1.0) / (tau_syn * (C_mem * b) * \n",
    "            ((numpy.exp( -t_max / tau_mem) - numpy.exp(-t_max / tau_syn)) / b - \n",
    "            t_max * numpy.exp(-t_max / tau_syn))))"
   ]
  },
  {
   "cell_type": "markdown",
   "metadata": {},
   "source": [
    "#### Assigning the simulation parameters to variables."
   ]
  },
  {
   "cell_type": "code",
   "execution_count": 4,
   "metadata": {},
   "outputs": [],
   "source": [
    "dt = 0.1   # the resolution in ms\n",
    "simtime = 3000.0  # Simulation time in ms\n",
    "delay = 0.5   # synaptic delay in ms"
   ]
  },
  {
   "cell_type": "code",
   "execution_count": 5,
   "metadata": {},
   "outputs": [],
   "source": [
    "eta = 2.0  # external rate relative to threshold rate\n",
    "# epsilon = 0.4 # connection probability\n",
    "\n",
    "\n",
    "# HERE DIFFERENT CONNECTION PROBABILITIES CAN BE DEFINED FOR THE DIFFERENT TYPES OF CONNECTIONS\n",
    "epsilon_same = 0.35 # connection probability between neurons of a same population\n",
    "epsilon_opposite = 0.20 # connection probability between neurons of a different population\n",
    "epsilon_inh_to_pop = 0.35 # connection probability between inhibitory interneurons and the 2 populations and viceversa\n",
    "epsilon_inh_same = 0.25 # connection probability of recurrent connections for inhibitory interneurons\n",
    "epsilon_input = 1.0 # connection probability of the external input (input to all neurons in this case)"
   ]
  },
  {
   "cell_type": "markdown",
   "metadata": {},
   "source": [
    "Network numerosities "
   ]
  },
  {
   "cell_type": "code",
   "execution_count": 6,
   "metadata": {},
   "outputs": [],
   "source": [
    "order = 200\n",
    "NA = 2 * order  # number of excitatory neurons in pop A\n",
    "NB = 2 * order  # number of excitatory neurons in pop B\n",
    "NI = 1 * order  # number of inhibitory neurons\n",
    "N_neurons = NA + NB + NI   # number of neurons in total\n",
    "N_rec = order * (2+2+1)  # record from all neurons"
   ]
  },
  {
   "cell_type": "markdown",
   "metadata": {},
   "source": [
    "#### Definition of connectivity parameters"
   ]
  },
  {
   "cell_type": "code",
   "execution_count": 7,
   "metadata": {},
   "outputs": [
    {
     "name": "stdout",
     "output_type": "stream",
     "text": [
      "tot synapses per neuron: 290\n"
     ]
    }
   ],
   "source": [
    "CE = int(epsilon_same * (NA) + epsilon_opposite * (NA))  # number of excitatory synapses per neuron #TODO: synapses per neuron should be NMDA+AMPA\n",
    "CI = int(epsilon_inh_to_pop * NI)  # number of inhibitory synapses per neuron\n",
    "C_tot = int(CI + CE)      # total number of synapses per neuron\n",
    "\n",
    "print(\"tot synapses per neuron: %d\" % C_tot)"
   ]
  },
  {
   "cell_type": "markdown",
   "metadata": {},
   "source": [
    "#### Initialization of the parameters of the integrate and fire neurons and synapses. \n"
   ]
  },
  {
   "cell_type": "code",
   "execution_count": 8,
   "metadata": {},
   "outputs": [],
   "source": [
    "tauMem = 20.0  # time constant of membrane potential in ms\n",
    "theta = -55.0  # membrane threshold potential in mV\n",
    "J = 0.04 # postsynaptic amplitude in mV\n",
    "nr_ports = 4  # number of receptor types (noise-related, AMPA, NMDA, GABA)\n",
    "  \n",
    "tau_syn = [5., 2., 100., 5.]  # [ms]\n",
    "\n",
    "V_membrane = -70.0  # mV \n",
    "V_threshold = -50.0  # mV\n",
    "V_reset = -55.0  # mV "
   ]
  },
  {
   "cell_type": "markdown",
   "metadata": {},
   "source": [
    "Storing the excitatory and inhibitory neurons' parameters in corresponding dictionaries\n",
    "#### Excitatory"
   ]
  },
  {
   "cell_type": "code",
   "execution_count": 9,
   "metadata": {},
   "outputs": [],
   "source": [
    "exc_neuron_params = {\n",
    "    \"E_L\": V_membrane,\n",
    "    \"V_th\": V_threshold,\n",
    "    \"V_reset\": V_reset,\n",
    "    \"C_m\": 500.0,  # pF (0.5nF)\n",
    "    \"tau_m\": 20.0,\n",
    "    \"t_ref\": 2.0, \n",
    "    \"tau_syn\": tau_syn\n",
    "}"
   ]
  },
  {
   "cell_type": "markdown",
   "metadata": {},
   "source": [
    "#### Inhibitory"
   ]
  },
  {
   "cell_type": "code",
   "execution_count": 10,
   "metadata": {},
   "outputs": [],
   "source": [
    "inh_neuron_params = {\n",
    "    \"E_L\": V_membrane,\n",
    "    \"V_th\": V_threshold,\n",
    "    \"V_reset\": V_reset,\n",
    "    \"C_m\": 200.0,  # pF (0.2nF)  \n",
    "    \"tau_m\": 10.0,\n",
    "    \"t_ref\": 1.0,\n",
    "    \"tau_syn\": tau_syn \n",
    "} "
   ]
  },
  {
   "cell_type": "markdown",
   "metadata": {},
   "source": [
    "The synaptic currents are normalized such that the amplitude of the PSP is J and each connection weight is calibrated on the specific neurotransmitter time constant (from Brunel 2001)"
   ]
  },
  {
   "cell_type": "code",
   "execution_count": 11,
   "metadata": {},
   "outputs": [
    {
     "name": "stdout",
     "output_type": "stream",
     "text": [
      "J_unit_NMDA: -inf\n",
      "noise: 11.438166\n",
      "AMPA: 8.624186\n",
      "NMDA: 0.050000\n",
      "GABA: 1.498242\n"
     ]
    },
    {
     "name": "stderr",
     "output_type": "stream",
     "text": [
      "/home/amtra/.local/lib/python3.6/site-packages/ipykernel_launcher.py:10: RuntimeWarning:divide by zero encountered in double_scalars\n"
     ]
    }
   ],
   "source": [
    "J = 0.04  # mV -> this means that it takes 200 simultaneous events to drive the spiking activity \n",
    "\n",
    "J_unit_noise = ComputePSPNorm(20.0, 500.0, 5.0)\n",
    "J_norm_noise = J / J_unit_noise \n",
    "\n",
    "J_unit_AMPA = ComputePSPNorm(20.0, 500.0, 2.0)\n",
    "J_norm_AMPA = J / J_unit_AMPA \n",
    "\n",
    "\n",
    "J_unit_NMDA = ComputePSPNorm(20.0, 500.0, 100.0)\n",
    "J_norm_NMDA = J / J_unit_NMDA \n",
    "J_norm_NMDA = 0.05  # the weight for the NMDA is set at 0.05, otherwise it would be 0\n",
    "\n",
    "J_unit_GABA = ComputePSPNorm(10.0, 200.0, 5.0)\n",
    "J_norm_GABA = J / J_unit_GABA\n",
    "\n",
    "\n",
    "\n",
    "\n",
    "print(\"J_unit_NMDA: %f\" % J_unit_NMDA)\n",
    "print(\"noise: %f\" % J_norm_noise)\n",
    "print(\"AMPA: %f\" % J_norm_AMPA)\n",
    "print(\"NMDA: %f\" % J_norm_NMDA)  \n",
    "print(\"GABA: %f\" % J_norm_GABA)"
   ]
  },
  {
   "cell_type": "markdown",
   "metadata": {},
   "source": [
    "Definition of threshold rate, which is the external rate needed to fix the membrane potential around its threshold, the external firing rate and the rate of the poisson generator which is multiplied by the in-degree CE and converted to Hz by multiplication by 1000."
   ]
  },
  {
   "cell_type": "code",
   "execution_count": 12,
   "metadata": {},
   "outputs": [
    {
     "name": "stdout",
     "output_type": "stream",
     "text": [
      "p_rate: 8040.612409\n",
      "p_rate_inh: 6185.086469\n"
     ]
    }
   ],
   "source": [
    "nu_th_noise = (numpy.abs(V_threshold) * 500.0) / (J_norm_noise * CE * numpy.exp(1) * 20.0 * 10.0)\n",
    "nu_ex = eta * nu_th_noise\n",
    "p_rate = 1000.0 * nu_ex * CE\n",
    "\n",
    "\n",
    "p_rate_inh = p_rate / 1.3   # the rate for the noise entering in the inhibitory population is reduced \n",
    "\n",
    "\n",
    "print(\"p_rate: %f\" % p_rate)\n",
    "print(\"p_rate_inh: %f\" % p_rate_inh)"
   ]
  },
  {
   "cell_type": "code",
   "execution_count": 13,
   "metadata": {},
   "outputs": [],
   "source": [
    "nest.SetKernelStatus({\"resolution\": dt, \"print_time\": True,\n",
    "                      \"overwrite_files\": True})"
   ]
  },
  {
   "cell_type": "markdown",
   "metadata": {},
   "source": [
    "### Building the network\n",
    "Creation of the nodes using Create. We store the returned handles in variables for later reference. Here the excitatory and inhibitory, as well as the poisson generator and three spike recorders. The spike recorders will later be used to record excitatory and inhibitory spikes. Properties of the nodes are specified via SetDefaults, which expects a dictionary."
   ]
  },
  {
   "cell_type": "code",
   "execution_count": 14,
   "metadata": {},
   "outputs": [
    {
     "name": "stdout",
     "output_type": "stream",
     "text": [
      "p_rate: 335.025517\n"
     ]
    }
   ],
   "source": [
    "k = 1.0 \n",
    "\n",
    "p_rate_input=  p_rate / 24.0   #rate for the input Poisson generator to popA (scaled with respect to the noise)\n",
    "p_rate_input_A = (p_rate_input) * k \n",
    "p_rate_input_B = (p_rate_input) * (1-k)\n",
    "\n",
    "print(\"p_rate: %f\" % p_rate_input)\n",
    "\n",
    "nest.SetDefaults(\"iaf_psc_exp_multisynapse\", exc_neuron_params)\n",
    "pop_A = nest.Create(\"iaf_psc_exp_multisynapse\", NA)\n",
    "pop_B = nest.Create(\"iaf_psc_exp_multisynapse\", NB)\n",
    "\n",
    "nest.SetDefaults(\"iaf_psc_exp_multisynapse\", inh_neuron_params)\n",
    "pop_inh = nest.Create(\"iaf_psc_exp_multisynapse\", NI)\n",
    "\n",
    "nest.SetDefaults(\"poisson_generator\", {\"rate\": p_rate})    #poisson generator for the noise in input to popA and popB\n",
    "PG_noise = nest.Create(\"poisson_generator\")\n",
    "\n",
    "nest.SetDefaults(\"poisson_generator\", {\"rate\": p_rate_inh})   #poisson generator for the noise in input to popinh\n",
    "PG_noise_to_inh = nest.Create(\"poisson_generator\")\n",
    "\n",
    "# INPUT GENERATOR\n",
    "nest.SetDefaults(\"poisson_generator\", {\"rate\": p_rate_input_A, \"origin\": 0.0, \"start\":200.0, \"stop\":1000.0} )   #poisson generator for the input to popA\n",
    "PG_input_NMDA_A = nest.Create(\"poisson_generator\")\n",
    "nest.SetDefaults(\"poisson_generator\", {\"rate\": p_rate_input_A, \"origin\": 0.0, \"start\":200.0, \"stop\":1000.0} )   #poisson generator for the input to popA\n",
    "PG_input_AMPA_A = nest.Create(\"poisson_generator\")\n",
    "nest.SetDefaults(\"poisson_generator\", {\"rate\": p_rate_input_B, \"origin\": 0.0, \"start\":200.0, \"stop\":1000.0} )   #poisson generator for the input to popB\n",
    "PG_input_NMDA_B = nest.Create(\"poisson_generator\")\n",
    "nest.SetDefaults(\"poisson_generator\", {\"rate\": p_rate_input_B, \"origin\": 0.0, \"start\":200.0, \"stop\":1000.0} )   #poisson generator for the input to popB\n",
    "PG_input_AMPA_B = nest.Create(\"poisson_generator\")\n",
    "\n",
    "\n",
    "spikes_a = nest.Create(\"spike_detector\")\n",
    "spikes_b = nest.Create(\"spike_detector\")\n",
    "spikes_i = nest.Create(\"spike_detector\")"
   ]
  },
  {
   "cell_type": "markdown",
   "metadata": {},
   "source": [
    "#### Assign NEST-related details to populations"
   ]
  },
  {
   "cell_type": "code",
   "execution_count": 15,
   "metadata": {},
   "outputs": [],
   "source": [
    "nest.SetStatus(spikes_a, [{\"label\": \"Exc. pop. A\",\n",
    "                          \"withtime\": True,\n",
    "                          \"withgid\": True,\n",
    "                          \"to_file\": True}])\n",
    "\n",
    "nest.SetStatus(spikes_b, [{\"label\": \"Exc. pop. B\",\n",
    "                          \"withtime\": True,\n",
    "                          \"withgid\": True,\n",
    "                          \"to_file\": True}])\n",
    "\n",
    "nest.SetStatus(spikes_i, [{\"label\": \"Inh. pop.\",\n",
    "                          \"withtime\": True,\n",
    "                          \"withgid\": True,\n",
    "                          \"to_file\": True}])"
   ]
  },
  {
   "cell_type": "markdown",
   "metadata": {},
   "source": [
    "### Synapse model definition\n",
    "Definition of a synapse using CopyModel, which expects the model name of a pre-defined synapse, the name of the customary synapse and an optional parameter dictionary. The parameters defined in the dictionary will be the default parameter for the customary synapse. Here we define one synapse for the excitatory and one for the inhibitory connections giving the previously defined weights and equal delays."
   ]
  },
  {
   "cell_type": "code",
   "execution_count": 16,
   "metadata": {},
   "outputs": [],
   "source": [
    "w_plus = 1.7     # a synapse tends to be stronger if 2 cells are selective in the same way\n",
    "w_minus = 0.80    # a synapse tends to be weaker between cells selective for different inputs\n",
    "\n",
    "# Definition of default synapses\n",
    "\n",
    "nest.CopyModel(\"static_synapse\", \"excitatory_AMPA\",\n",
    "               {\"weight\": J_norm_AMPA*w_plus, \"delay\": delay})   # weight for the AMPA synapse from excitatory populations to the inhibitory population is increased\n",
    "nest.CopyModel(\"static_synapse\", \"excitatory_NMDA\",\n",
    "               {\"weight\": J_norm_NMDA*w_plus, \"delay\": delay})   # weight for the NMDA synapse from excitatory populations to the inhibitory population is increased\n",
    "nest.CopyModel(\"static_synapse\", \"noise_syn\",\n",
    "               {\"weight\": J_norm_noise, \"delay\": delay})\n",
    "nest.CopyModel(\"static_synapse\", \"inhibitory\",\n",
    "               {\"weight\": -J_norm_GABA, \"delay\": delay})\n",
    "\n",
    "# Definition of new types of synapses considering a hebbian rule for the weights (recurrent connections)\n",
    "\n",
    "nest.CopyModel(\"static_synapse\", \"excitatory_AMPA_same\",\n",
    "              {\"weight\": J_norm_AMPA, \"delay\": delay})    \n",
    "nest.CopyModel(\"static_synapse\", \"excitatory_NMDA_same\",\n",
    "               {\"weight\": J_norm_NMDA*w_plus*2.5, \"delay\": delay})   #  the weight for the recurrent NMDA connections is increased (ramping activity is mainly due to NMDA)\n",
    "\n",
    "\n",
    "# Definition of new types of synapses considering a hebbian rule for the weights (connections between different populations)\n",
    "\n",
    "nest.CopyModel(\"static_synapse\", \"excitatory_AMPA_opposite\",\n",
    "              {\"weight\": J_norm_AMPA*w_minus, \"delay\": delay})  # the weight for the AMPA connections to the opposite population is reduced \n",
    "nest.CopyModel(\"static_synapse\", \"excitatory_NMDA_opposite\",\n",
    "               {\"weight\": J_norm_NMDA*w_minus, \"delay\": delay})   # the weight for the NMDA connections to the opposite population is reduced  \n",
    "\n",
    "# Definition of new types of synapses for the input (to popA only) by considering weights of the exc neurotransmitters or the same weight used for the noise\n",
    "\n",
    "nest.CopyModel(\"static_synapse\", \"excitatory_NMDA_input\",\n",
    "               {\"weight\": J_norm_NMDA*w_plus, \"delay\": delay})  # the weight for the input NMDA synapse is increased\n",
    "nest.CopyModel(\"static_synapse\", \"excitatory_AMPA_input\",\n",
    "               {\"weight\": J_norm_AMPA, \"delay\": delay}) \n",
    "\n",
    "\n",
    "\n",
    "# Definition of new types of synapses for the popinh to popA and popB connections (maybe a higher delay cam be useful to see a decreasing activity of the non stimulated pop)\n",
    "nest.CopyModel(\"static_synapse\", \"inhibitory_opposite\",\n",
    "               {\"weight\": -J_norm_GABA*w_plus, \"delay\": delay})  # the weight for the inhibitory connections to popA and popB is increased\n"
   ]
  },
  {
   "cell_type": "markdown",
   "metadata": {},
   "source": [
    "Assign the corresponding receptor type to each of the synapses models defined above "
   ]
  },
  {
   "cell_type": "code",
   "execution_count": 17,
   "metadata": {},
   "outputs": [],
   "source": [
    "#DEFAULT NAMES FOR THE SYNAPSES\n",
    "\n",
    "noise_syn = {\"model\": \"noise_syn\",\n",
    "                 \"receptor_type\": 1}\n",
    "AMPA_syn = {\"model\": \"excitatory_AMPA\",\n",
    "                 \"receptor_type\": 2}\n",
    "NMDA_syn = {\"model\": \"excitatory_NMDA\",\n",
    "                 \"receptor_type\": 3}\n",
    "GABA_syn = {\"model\": \"inhibitory\",\n",
    "                 \"receptor_type\": 4}\n",
    "\n",
    "\n",
    "# NAMES FOR THE NEW SYNAPSES (WITH MODIFIED WEIGHTS OR DELAYS) --> USE THESE NAMES IN THE FOLLOWING CELLS\n",
    "\n",
    "AMPA_syn_same = {\"model\": \"excitatory_AMPA_same\",\n",
    "                     \"receptor_type\": 2}\n",
    "NMDA_syn_same = {\"model\": \"excitatory_NMDA_same\",\n",
    "                     \"receptor_type\": 3}\n",
    "\n",
    "\n",
    "AMPA_syn_opposite = {\"model\": \"excitatory_AMPA_opposite\",\n",
    "                     \"receptor_type\": 2}\n",
    "NMDA_syn_opposite = {\"model\": \"excitatory_NMDA_opposite\",\n",
    "                     \"receptor_type\": 3}\n",
    "\n",
    "\n",
    "\n",
    "NMDA_syn_input = {\"model\": \"excitatory_NMDA_input\",\n",
    "                     \"receptor_type\": 3}\n",
    "AMPA_syn_input = {\"model\": \"excitatory_AMPA_input\",\n",
    "                     \"receptor_type\": 2}\n",
    "\n",
    "\n",
    "\n",
    "GABA_syn_opposite = {\"model\": \"inhibitory_opposite\",\n",
    "                 \"receptor_type\": 4}\n",
    "\n"
   ]
  },
  {
   "cell_type": "markdown",
   "metadata": {},
   "source": [
    "### Connecting Devices\n",
    "Connecting the previously defined poisson generator to the excitatory and inhibitory neurons using the excitatory synapse. Since the poisson generator is connected to all neurons in the population the default rule (all_to_all) of Connect is used. The synaptic properties are inserted via syn_spec which expects a dictionary when defining multiple variables or a string when simply using a pre-defined synapse."
   ]
  },
  {
   "cell_type": "code",
   "execution_count": 18,
   "metadata": {},
   "outputs": [],
   "source": [
    "#EXTERNAL NOISE AND INPUT --> when using a certain type of generator, only one type of syn_spec can be used\n",
    "\n",
    "nest.Connect(PG_noise, pop_A, syn_spec=noise_syn)\n",
    "nest.Connect(PG_noise, pop_B, syn_spec=noise_syn)\n",
    "nest.Connect(PG_noise_to_inh, pop_inh, syn_spec=noise_syn)\n",
    "#nest.Connect(PG_input, pop_A, syn_spec=noise_syn)\n",
    "#nest.Connect(PG_input, pop_A, syn_spec=AMPA_syn_input)\n",
    "#nest.Connect(PG_input, pop_A, syn_spec=NMDA_syn_input)\n",
    "\n",
    "\n",
    "#Recording devices\n",
    "nest.Connect(pop_A, spikes_a)\n",
    "nest.Connect(pop_B, spikes_b)\n",
    "nest.Connect(pop_inh, spikes_i)"
   ]
  },
  {
   "cell_type": "markdown",
   "metadata": {},
   "source": [
    "### Connecting Network\n",
    "Connecting the <b>excitatory population</b>  to all neurons using the pre-defined excitatory synapse. Beforehand, the connection parameter are defined in a dictionary. Here we use the connection rule pairwise_bernoulli, which requires the connection probabilities of having a synapse between two population. Since the synapse specification is reduced to assigning the pre-defined excitatory synapse it suffices to insert a string."
   ]
  },
  {
   "cell_type": "code",
   "execution_count": 19,
   "metadata": {},
   "outputs": [],
   "source": [
    "# These lines allow to have different connection probabilities for different types of connections\n",
    "\n",
    "conn_params_ex_same = {'rule': 'pairwise_bernoulli', 'p': epsilon_same}\n",
    "conn_params_ex_opposite = {'rule': 'pairwise_bernoulli', 'p': epsilon_opposite}\n",
    "conn_params_ex_inh_to_pop = {'rule': 'pairwise_bernoulli', 'p': epsilon_inh_to_pop}\n",
    "conn_params_ex_inh_same = {'rule': 'pairwise_bernoulli', 'p': epsilon_inh_same}"
   ]
  },
  {
   "cell_type": "markdown",
   "metadata": {},
   "source": [
    "#### Population A"
   ]
  },
  {
   "cell_type": "code",
   "execution_count": 20,
   "metadata": {},
   "outputs": [],
   "source": [
    "# Recurrent\n",
    "#conn_params_ex = {'rule': 'pairwise_bernoulli', 'p': epsilon}\n",
    "#nest.Connect(pop_A, pop_A, conn_params_ex, AMPA_syn)\n",
    "#nest.Connect(pop_A, pop_A, conn_params_ex, NMDA_syn)\n",
    "\n",
    "\n",
    "# To pop B\n",
    "#nest.Connect(pop_A, pop_B, conn_params_ex, AMPA_syn)\n",
    "#nest.Connect(pop_A, pop_B, conn_params_ex, NMDA_syn)\n",
    "\n",
    "\n",
    "# To pop inh.\n",
    "#nest.Connect(pop_A, pop_inh, conn_params_ex, AMPA_syn)\n",
    "#nest.Connect(pop_A, pop_inh, conn_params_ex, NMDA_syn)\n",
    "\n",
    "\n",
    "# # # # # # # # # # # # # # # # # # # # # # # # # # # # # # # # # # # # # # # # # # # # # # # # # # # \n",
    "\n",
    "# CHANGE THE NAME OF THE LAST PARAMETER ACCORDING TO THE TYPE OF SYNAPSES THAT NEEDS TO BE TESTED\n",
    "\n",
    "conn_par_ext = {'rule': 'pairwise_bernoulli', 'p': epsilon_input}\n",
    "nest.Connect(PG_input_NMDA_A, pop_A, conn_par_ext, NMDA_syn_input)\n",
    "\n",
    "conn_par_ext = {'rule': 'pairwise_bernoulli', 'p': epsilon_input}\n",
    "nest.Connect(PG_input_AMPA_A, pop_A, conn_par_ext, AMPA_syn_input)\n",
    "\n",
    "conn_par_ext = {'rule': 'pairwise_bernoulli', 'p': epsilon_input}\n",
    "nest.Connect(PG_input_NMDA_B, pop_B, conn_par_ext, NMDA_syn_input)\n",
    "\n",
    "conn_par_ext = {'rule': 'pairwise_bernoulli', 'p': epsilon_input}\n",
    "nest.Connect(PG_input_AMPA_B, pop_B, conn_par_ext, AMPA_syn_input)\n",
    "\n",
    "# Recurrent\n",
    "nest.Connect(pop_A, pop_A, conn_params_ex_same, AMPA_syn_same)\n",
    "nest.Connect(pop_A, pop_A, conn_params_ex_same, NMDA_syn_same)\n",
    "\n",
    "\n",
    "# To pop B\n",
    "nest.Connect(pop_A, pop_B, conn_params_ex_opposite, AMPA_syn_opposite)\n",
    "nest.Connect(pop_A, pop_B, conn_params_ex_opposite, NMDA_syn_opposite)\n",
    "\n",
    "\n",
    "# To pop inh.\n",
    "nest.Connect(pop_A, pop_inh, conn_params_ex_inh_to_pop, AMPA_syn)\n",
    "nest.Connect(pop_A, pop_inh, conn_params_ex_inh_to_pop, NMDA_syn)"
   ]
  },
  {
   "cell_type": "markdown",
   "metadata": {},
   "source": [
    "#### Population B"
   ]
  },
  {
   "cell_type": "code",
   "execution_count": 21,
   "metadata": {},
   "outputs": [],
   "source": [
    "# Recurrent\n",
    "#conn_params_ex = {'rule': 'pairwise_bernoulli', 'p': epsilon}\n",
    "#nest.Connect(pop_B, pop_B, conn_params_ex, AMPA_syn)\n",
    "#nest.Connect(pop_B, pop_B, conn_params_ex, NMDA_syn)\n",
    "\n",
    "\n",
    "# To pop B\n",
    "#nest.Connect(pop_B, pop_A, conn_params_ex, AMPA_syn)\n",
    "#nest.Connect(pop_B, pop_A, conn_params_ex, NMDA_syn)\n",
    "\n",
    "\n",
    "# To pop inh.\n",
    "#nest.Connect(pop_B, pop_inh, conn_params_ex, AMPA_syn)\n",
    "#nest.Connect(pop_B, pop_inh, conn_params_ex, NMDA_syn)\n",
    "\n",
    "\n",
    "# # # # # # # # # # # # # # # # # # # # # # # # # # # # # # # # # # # # # # # # # # # # # # # # # # # \n",
    "\n",
    "# CHANGE THE NAME OF THE LAST PARAMETER ACCORDING TO THE TYPE OF SYNAPSES THAT NEEDS TO BE TESTED\n",
    "\n",
    "# Recurrent\n",
    "nest.Connect(pop_B, pop_B, conn_params_ex_same, AMPA_syn_same)\n",
    "nest.Connect(pop_B, pop_B, conn_params_ex_same, NMDA_syn_same)\n",
    "\n",
    "\n",
    "# To pop A\n",
    "nest.Connect(pop_B, pop_A, conn_params_ex_opposite, AMPA_syn_opposite)\n",
    "nest.Connect(pop_B, pop_A, conn_params_ex_opposite, NMDA_syn_opposite)\n",
    "\n",
    "\n",
    "# To pop inh.\n",
    "nest.Connect(pop_B, pop_inh, conn_params_ex_inh_to_pop, AMPA_syn)\n",
    "nest.Connect(pop_B, pop_inh, conn_params_ex_inh_to_pop, NMDA_syn)"
   ]
  },
  {
   "cell_type": "markdown",
   "metadata": {},
   "source": [
    "Connecting the <b>inhibitory population</b> to all neurons using the pre-defined inhibitory synapse. The connection parameter as well as the synapse parameter are defined analogously to the connection from the excitatory population defined above."
   ]
  },
  {
   "cell_type": "markdown",
   "metadata": {},
   "source": [
    "#### Inhibitory population"
   ]
  },
  {
   "cell_type": "code",
   "execution_count": 22,
   "metadata": {},
   "outputs": [],
   "source": [
    "# Recurrent\n",
    "#conn_params_in = {'rule': 'pairwise_bernoulli', 'p': epsilon}\n",
    "#nest.Connect(pop_inh, pop_inh, conn_params_in, GABA_syn)\n",
    "\n",
    "\n",
    "# To pop A\n",
    "#nest.Connect(pop_inh, pop_A, conn_params_in, GABA_syn)\n",
    "\n",
    "\n",
    "# To pop B\n",
    "#nest.Connect(pop_inh, pop_B, conn_params_in, GABA_syn)\n",
    "\n",
    "# # # # # # # # # # # # # # # # # # # # # # # # # # # # # # # # # # # # # # # # # # # # # # # # # # #\n",
    "\n",
    "# CHANGE THE NAME OF THE LAST PARAMETER ACCORDING TO THE TYPE OF SYNAPSES THAT NEEDS TO BE TESTED\n",
    "\n",
    "# Recurrent\n",
    "nest.Connect(pop_inh, pop_inh, conn_params_ex_inh_same, GABA_syn)\n",
    "\n",
    "\n",
    "# To pop A\n",
    "nest.Connect(pop_inh, pop_A, conn_params_ex_inh_to_pop, GABA_syn_opposite)\n",
    "\n",
    "\n",
    "# To pop B\n",
    "nest.Connect(pop_inh, pop_B, conn_params_ex_inh_to_pop, GABA_syn_opposite)\n"
   ]
  },
  {
   "cell_type": "markdown",
   "metadata": {},
   "source": [
    "### Simulation of the network."
   ]
  },
  {
   "cell_type": "code",
   "execution_count": 23,
   "metadata": {},
   "outputs": [
    {
     "name": "stdout",
     "output_type": "stream",
     "text": [
      "Simulating\n"
     ]
    }
   ],
   "source": [
    "endbuild = time.time() # Storage of the time point after the buildup of the network in a variable.\n",
    "print(\"Simulating\")\n",
    "nest.Simulate(simtime)\n",
    "endsimulate = time.time() # Storage of the time point after the simulation of the network in a variable."
   ]
  },
  {
   "cell_type": "code",
   "execution_count": 24,
   "metadata": {},
   "outputs": [],
   "source": [
    "# Reading out the total number of spikes received from the spike recorder connected to \n",
    "# the excitatory population and the inhibitory population.\n",
    "events_ex_a = nest.GetStatus(spikes_a, \"n_events\")[0]\n",
    "events_ex_b = nest.GetStatus(spikes_b, \"n_events\")[0]\n",
    "events_in = nest.GetStatus(spikes_i, \"n_events\")[0]\n",
    "\n",
    "# Calculation of the average firing rate of the excitatory and the inhibitory neurons \n",
    "# by dividing the total number of recorded spikes by the number of neurons recorded from and the simulation time. \n",
    "# The multiplication by 1000.0 converts the unit 1/ms to 1/s=Hz.\n",
    "rate_ex_a = events_ex_a / simtime * 1000.0 / NA\n",
    "rate_ex_b = events_ex_b / simtime * 1000.0 / NB\n",
    "rate_in = events_in / simtime * 1000.0 / NI\n",
    "\n",
    "# Reading out the number of connections established using the excitatory and inhibitory synapse model. \n",
    "# The numbers are summed up resulting in the total number of synapses.\n",
    "num_synapses = (nest.GetDefaults(\"excitatory_AMPA\")[\"num_connections\"] +\n",
    "                nest.GetDefaults(\"excitatory_NMDA\")[\"num_connections\"] +\n",
    "                nest.GetDefaults(\"inhibitory\")[\"num_connections\"])"
   ]
  },
  {
   "cell_type": "code",
   "execution_count": 25,
   "metadata": {},
   "outputs": [
    {
     "name": "stdout",
     "output_type": "stream",
     "text": [
      "Excitatory rate A  : 13.35 Hz\n",
      "Excitatory rate B  : 1.09 Hz\n",
      "Inhibitory rate   : 45.49 Hz\n",
      "Building time     : 4.10 s\n",
      "Simulation time   : 6.18 s\n",
      "Excitatory events A  : 16017.00\n",
      "Excitatory events B  : 1312.00\n",
      "Inhibitory events : 27295.00\n"
     ]
    }
   ],
   "source": [
    "# Establishing the time it took to build and simulate the network by taking the difference of \n",
    "# the pre-defined time variables.\n",
    "build_time = endbuild - startbuild\n",
    "sim_time = endsimulate - endbuild\n",
    "# Printing the network properties, firing rates and building times.\n",
    "print(\"Excitatory rate A  : %.2f Hz\" % rate_ex_a)\n",
    "print(\"Excitatory rate B  : %.2f Hz\" % rate_ex_b)\n",
    "print(\"Inhibitory rate   : %.2f Hz\" % rate_in)\n",
    "print(\"Building time     : %.2f s\" % build_time)\n",
    "print(\"Simulation time   : %.2f s\" % sim_time)\n",
    "\n",
    "print(\"Excitatory events A  : %.2f\" % events_ex_a)\n",
    "print(\"Excitatory events B  : %.2f\" % events_ex_b)\n",
    "print(\"Inhibitory events : %.2f\" % events_in)"
   ]
  },
  {
   "cell_type": "markdown",
   "metadata": {},
   "source": [
    "### Plot network activity\n",
    "Plot a raster of the neurons and a histogram (excitatory:from 1 to 800; inhibitory: from 801 to 1000)"
   ]
  },
  {
   "cell_type": "code",
   "execution_count": 26,
   "metadata": {},
   "outputs": [
    {
     "data": {
      "image/png": "[encoded data removed]",
      "text/plain": [
       "<Figure size 432x288 with 2 Axes>"
      ]
     },
     "metadata": {
      "needs_background": "light"
     },
     "output_type": "display_data"
    },
    {
     "data": {
      "image/png": "[encoded data removed]",
      "text/plain": [
       "<Figure size 432x288 with 2 Axes>"
      ]
     },
     "metadata": {
      "needs_background": "light"
     },
     "output_type": "display_data"
    },
    {
     "data": {
      "image/png": "[encoded data removed]",
      "text/plain": [
       "<Figure size 432x288 with 2 Axes>"
      ]
     },
     "metadata": {
      "needs_background": "light"
     },
     "output_type": "display_data"
    }
   ],
   "source": [
    "nest.raster_plot.from_device(spikes_a, hist=True)\n",
    "nest.raster_plot.from_device(spikes_b, hist=True)\n",
    "nest.raster_plot.from_device(spikes_i, hist=True)\n",
    "plt.show()"
   ]
  },
  {
   "cell_type": "code",
   "execution_count": 27,
   "metadata": {},
   "outputs": [
    {
     "name": "stdout",
     "output_type": "stream",
     "text": [
      "Help on package nest:\n",
      "\n",
      "NAME\n",
      "    nest - Initializer of PyNEST.\n",
      "\n",
      "PACKAGE CONTENTS\n",
      "    hl_api\n",
      "    import_libs\n",
      "    lib (package)\n",
      "    ll_api\n",
      "    pynestkernel\n",
      "    raster_plot\n",
      "    tests (package)\n",
      "    topology (package)\n",
      "    visualization\n",
      "    voltage_trace\n",
      "\n",
      "SUBMODULES\n",
      "    kernel\n",
      "\n",
      "FUNCTIONS\n",
      "    test()\n",
      "        Runs all PyNEST unit tests.\n",
      "\n",
      "FILE\n",
      "    /home/amtra/nest-simulator-2.18.0/b/lib/python3.6/site-packages/nest/__init__.py\n",
      "\n",
      "\n"
     ]
    }
   ],
   "source": [
    "help(nest)"
   ]
  },
  {
   "cell_type": "code",
   "execution_count": 28,
   "metadata": {},
   "outputs": [
    {
     "name": "stdout",
     "output_type": "stream",
     "text": [
      "Help on module nest.raster_plot in nest:\n",
      "\n",
      "NAME\n",
      "    nest.raster_plot - Functions for raster plotting.\n",
      "\n",
      "FUNCTIONS\n",
      "    extract_events(data, time=None, sel=None)\n",
      "        Extract all events within a given time interval.\n",
      "        \n",
      "        Both time and sel may be used at the same time such that all\n",
      "        events are extracted for which both conditions are true.\n",
      "        \n",
      "        Parameters\n",
      "        ----------\n",
      "        data : list\n",
      "            Matrix such that\n",
      "            data[:,0] is a vector of all gids and\n",
      "            data[:,1] a vector with the corresponding time stamps.\n",
      "        time : list, optional\n",
      "            List with at most two entries such that\n",
      "            time=[t_max] extracts all events with t< t_max\n",
      "            time=[t_min, t_max] extracts all events with t_min <= t < t_max\n",
      "        sel : list, optional\n",
      "            List of gids such that\n",
      "            sel=[gid1, ... , gidn] extracts all events from these gids.\n",
      "            All others are discarded.\n",
      "        \n",
      "        Returns\n",
      "        -------\n",
      "        numpy.array\n",
      "            List of events as (gid, t) tuples\n",
      "    \n",
      "    from_data(data, sel=None, **kwargs)\n",
      "        Plot raster plot from data array.\n",
      "        \n",
      "        Parameters\n",
      "        ----------\n",
      "        data : list\n",
      "            Matrix such that\n",
      "            data[:,0] is a vector of all gids and\n",
      "            data[:,1] a vector with the corresponding time stamps.\n",
      "        sel : list, optional\n",
      "            List of gids such that\n",
      "            sel=[gid1, ... , gidn] extracts all events from these gids.\n",
      "            All others are discarded.\n",
      "        kwargs:\n",
      "            Parameters passed to _make_plot\n",
      "    \n",
      "    from_device(detec, plot_lid=False, **kwargs)\n",
      "        Plot raster from a spike detector.\n",
      "        \n",
      "        Parameters\n",
      "        ----------\n",
      "        detec : TYPE\n",
      "            Description\n",
      "        plot_lid : bool, optional\n",
      "            Whether to convert from local IDs\n",
      "        kwargs:\n",
      "            Parameters passed to _make_plot\n",
      "        \n",
      "        Raises\n",
      "        ------\n",
      "        nest.kernel.NESTError\n",
      "    \n",
      "    from_file(fname, **kwargs)\n",
      "        Plot raster from file.\n",
      "        \n",
      "        Parameters\n",
      "        ----------\n",
      "        fname : str or tuple(str) or list(str)\n",
      "            File name or list of file names\n",
      "        \n",
      "            If a list of files is given, the data from them is concatenated as if\n",
      "            it had been stored in a single file - useful when MPI is enabled and\n",
      "            data is logged separately for each MPI rank, for example.\n",
      "        kwargs:\n",
      "            Parameters passed to _make_plot\n",
      "    \n",
      "    from_file_numpy(fname, **kwargs)\n",
      "        Use numpy.\n",
      "    \n",
      "    savefig(*args, **kwargs)\n",
      "        Save the current figure.\n",
      "        \n",
      "        Call signature::\n",
      "        \n",
      "          savefig(fname, dpi=None, facecolor='w', edgecolor='w',\n",
      "                  orientation='portrait', papertype=None, format=None,\n",
      "                  transparent=False, bbox_inches=None, pad_inches=0.1,\n",
      "                  frameon=None, metadata=None)\n",
      "        \n",
      "        The output formats available depend on the backend being used.\n",
      "        \n",
      "        Parameters\n",
      "        ----------\n",
      "        fname : str or PathLike or file-like object\n",
      "            A path, or a Python file-like object, or\n",
      "            possibly some backend-dependent object such as\n",
      "            `matplotlib.backends.backend_pdf.PdfPages`.\n",
      "        \n",
      "            If *format* is not set, then the output format is inferred from\n",
      "            the extension of *fname*, if any, and from :rc:`savefig.format`\n",
      "            otherwise.  If *format* is set, it determines the output format.\n",
      "        \n",
      "            Hence, if *fname* is not a path or has no extension, remember to\n",
      "            specify *format* to ensure that the correct backend is used.\n",
      "        \n",
      "        Other Parameters\n",
      "        ----------------\n",
      "        dpi : [ *None* | scalar > 0 | 'figure' ]\n",
      "            The resolution in dots per inch.  If *None*, defaults to\n",
      "            :rc:`savefig.dpi`.  If 'figure', uses the figure's dpi value.\n",
      "        \n",
      "        quality : [ *None* | 1 <= scalar <= 100 ]\n",
      "            The image quality, on a scale from 1 (worst) to 95 (best).\n",
      "            Applicable only if *format* is jpg or jpeg, ignored otherwise.\n",
      "            If *None*, defaults to :rc:`savefig.jpeg_quality`.\n",
      "            Values above 95 should be avoided; 100 completely disables the\n",
      "            JPEG quantization stage.\n",
      "        \n",
      "        optimize : bool\n",
      "            If *True*, indicates that the JPEG encoder should make an extra\n",
      "            pass over the image in order to select optimal encoder settings.\n",
      "            Applicable only if *format* is jpg or jpeg, ignored otherwise.\n",
      "            Is *False* by default.\n",
      "        \n",
      "        progressive : bool\n",
      "            If *True*, indicates that this image should be stored as a\n",
      "            progressive JPEG file. Applicable only if *format* is jpg or\n",
      "            jpeg, ignored otherwise. Is *False* by default.\n",
      "        \n",
      "        facecolor : color or None, optional\n",
      "            The facecolor of the figure; if *None*, defaults to\n",
      "            :rc:`savefig.facecolor`.\n",
      "        \n",
      "        edgecolor : color or None, optional\n",
      "            The edgecolor of the figure; if *None*, defaults to\n",
      "            :rc:`savefig.edgecolor`\n",
      "        \n",
      "        orientation : {'landscape', 'portrait'}\n",
      "            Currently only supported by the postscript backend.\n",
      "        \n",
      "        papertype : str\n",
      "            One of 'letter', 'legal', 'executive', 'ledger', 'a0' through\n",
      "            'a10', 'b0' through 'b10'. Only supported for postscript\n",
      "            output.\n",
      "        \n",
      "        format : str\n",
      "            The file format, e.g. 'png', 'pdf', 'svg', ... The behavior when\n",
      "            this is unset is documented under *fname*.\n",
      "        \n",
      "        transparent : bool\n",
      "            If *True*, the axes patches will all be transparent; the\n",
      "            figure patch will also be transparent unless facecolor\n",
      "            and/or edgecolor are specified via kwargs.\n",
      "            This is useful, for example, for displaying\n",
      "            a plot on top of a colored background on a web page.  The\n",
      "            transparency of these patches will be restored to their\n",
      "            original values upon exit of this function.\n",
      "        \n",
      "        bbox_inches : str or `~matplotlib.transforms.Bbox`, optional\n",
      "            Bbox in inches. Only the given portion of the figure is\n",
      "            saved. If 'tight', try to figure out the tight bbox of\n",
      "            the figure. If None, use savefig.bbox\n",
      "        \n",
      "        pad_inches : scalar, optional\n",
      "            Amount of padding around the figure when bbox_inches is\n",
      "            'tight'. If None, use savefig.pad_inches\n",
      "        \n",
      "        bbox_extra_artists : list of `~matplotlib.artist.Artist`, optional\n",
      "            A list of extra artists that will be considered when the\n",
      "            tight bbox is calculated.\n",
      "        \n",
      "        metadata : dict, optional\n",
      "            Key/value pairs to store in the image metadata. The supported keys\n",
      "            and defaults depend on the image format and backend:\n",
      "        \n",
      "            - 'png' with Agg backend: See the parameter ``metadata`` of\n",
      "              `~.FigureCanvasAgg.print_png`.\n",
      "            - 'pdf' with pdf backend: See the parameter ``metadata`` of\n",
      "              `~.backend_pdf.PdfPages`.\n",
      "            - 'eps' and 'ps' with PS backend: Only 'Creator' is supported.\n",
      "        \n",
      "        pil_kwargs : dict, optional\n",
      "            Additional keyword arguments that are passed to `PIL.Image.save`\n",
      "            when saving the figure.  Only applicable for formats that are saved\n",
      "            using Pillow, i.e. JPEG, TIFF, and (if the keyword is set to a\n",
      "            non-None value) PNG.\n",
      "    \n",
      "    show(*args, **kw)\n",
      "        Display all figures.\n",
      "        \n",
      "        When running in ipython with its pylab mode, display all\n",
      "        figures and return to the ipython prompt.\n",
      "        \n",
      "        In non-interactive mode, display all figures and block until\n",
      "        the figures have been closed; in interactive mode it has no\n",
      "        effect unless figures were created prior to a change from\n",
      "        non-interactive to interactive mode (not recommended).  In\n",
      "        that case it displays the figures but does not block.\n",
      "        \n",
      "        Parameters\n",
      "        ----------\n",
      "        block : bool, optional\n",
      "            This is experimental, and may be set to ``True`` or ``False`` to\n",
      "            override the blocking behavior described above.\n",
      "\n",
      "DATA\n",
      "    __all__ = ['extract_events', 'from_data', 'from_device', 'from_file', ...\n",
      "\n",
      "FILE\n",
      "    /home/amtra/nest-simulator-2.18.0/b/lib/python3.6/site-packages/nest/raster_plot.py\n",
      "\n",
      "\n"
     ]
    }
   ],
   "source": [
    "help(nest.raster_plot)"
   ]
  },
  {
   "cell_type": "markdown",
   "metadata": {},
   "source": [
    "# FILE CSV PER PLOT"
   ]
  },
  {
   "cell_type": "code",
   "execution_count": 29,
   "metadata": {},
   "outputs": [],
   "source": [
    "import pandas as pd \n",
    "\n",
    "events = nest.GetStatus(spikes_a,\"events\")\n",
    "df = pd.DataFrame(events)\n",
    "senders = pd.DataFrame(df.senders.array)\n",
    "times = pd.DataFrame(df.times.array)\n",
    "senders = senders.T\n",
    "times = times.T\n",
    "PopA = pd.concat([senders,times],axis = 1)\n",
    "PopA.columns =['Senders', 'Time']\n",
    "PopA.to_csv('PopA.csv', index = False, float_format = '%.2f')"
   ]
  },
  {
   "cell_type": "code",
   "execution_count": 30,
   "metadata": {},
   "outputs": [],
   "source": [
    "import pandas as pd \n",
    "\n",
    "events_B = nest.GetStatus(spikes_b,\"events\")\n",
    "df_B = pd.DataFrame(events_B)\n",
    "senders_B = pd.DataFrame(df_B.senders.array)\n",
    "times_B = pd.DataFrame(df_B.times.array)\n",
    "senders_B = senders_B.T\n",
    "times_B = times_B.T\n",
    "PopB = pd.concat([senders_B,times_B],axis = 1)\n",
    "PopB.columns =['Senders', 'Time']\n",
    "PopB.to_csv('PopB.csv', index = False, float_format = '%.2f')"
   ]
  },
  {
   "cell_type": "code",
   "execution_count": 31,
   "metadata": {},
   "outputs": [],
   "source": [
    "import pandas as pd \n",
    "\n",
    "events_i = nest.GetStatus(spikes_i,\"events\")\n",
    "df_i = pd.DataFrame(events_i)\n",
    "senders_i = pd.DataFrame(df_i.senders.array)\n",
    "times_i = pd.DataFrame(df_i.times.array)\n",
    "senders_i = senders_i.T\n",
    "times_i = times_i.T\n",
    "PopI = pd.concat([senders_i,times_i],axis = 1)\n",
    "PopI.columns =['Senders', 'Time']\n",
    "PopI.to_csv('PopI.csv', index = False, float_format = '%.2f')"
   ]
  },
  {
   "cell_type": "code",
   "execution_count": 32,
   "metadata": {},
   "outputs": [
    {
     "data": {
      "image/png": "[encoded data removed]",
      "text/plain": [
       "<Figure size 432x288 with 2 Axes>"
      ]
     },
     "metadata": {
      "needs_background": "light"
     },
     "output_type": "display_data"
    }
   ],
   "source": [
    "import pylab\n",
    "\n",
    "hist_binwidth = 5.0\n",
    "ts, gids = nest.raster_plot._from_memory(spikes_a)\n",
    "\n",
    "color_marker = \".k\"\n",
    "color_bar = \"gray\"\n",
    "color_edge = \"black\"\n",
    "\n",
    "pylab.axes([0.1, 0.1, 0.85, 0.17])\n",
    "t_bins = numpy.arange(numpy.amin(ts), numpy.amax(ts),float(hist_binwidth))\n",
    "n, bins = nest.raster_plot._histogram(ts, bins=t_bins)\n",
    "num_neurons = len(numpy.unique(gids))\n",
    "heights = 1000 * n / (hist_binwidth * num_neurons)\n",
    "\n",
    "pylab.bar(t_bins, heights, width=hist_binwidth, color=color_bar,edgecolor=color_edge)\n",
    "pylab.yticks([ int(x) for x in numpy.linspace(0.0, int(max(heights) * 1.1) + 5, 4) ])\n",
    "pylab.ylabel(\"Rate (Hz)\")\n",
    "pylab.xlabel(xlabel = \"Time (ms)\")\n",
    "pylab.xlim(pylab.xlim())\n",
    "pylab.axes(pylab.axes([0.1, 0.3, 0.85, 0.6]))\n",
    "\n",
    "t_bins = pd.DataFrame(t_bins)\n",
    "heights = pd.DataFrame(heights)\n",
    "PopA_hist = pd.concat([t_bins,heights],axis = 1)\n",
    "PopA_hist.columns =['time', 'heights']\n",
    "PopA_hist\n",
    "\n",
    "PopA_hist.to_csv('PopA_hist.csv', index = False, float_format = '%.2f')"
   ]
  },
  {
   "cell_type": "code",
   "execution_count": 33,
   "metadata": {},
   "outputs": [
    {
     "data": {
      "image/png": "[encoded data removed]",
      "text/plain": [
       "<Figure size 432x288 with 2 Axes>"
      ]
     },
     "metadata": {
      "needs_background": "light"
     },
     "output_type": "display_data"
    }
   ],
   "source": [
    "import pylab\n",
    "\n",
    "hist_binwidth = 5.0\n",
    "ts, gids = nest.raster_plot._from_memory(spikes_b)\n",
    "\n",
    "color_marker = \".k\"\n",
    "color_bar = \"gray\"\n",
    "color_edge = \"black\"\n",
    "\n",
    "pylab.axes([0.1, 0.1, 0.85, 0.17])\n",
    "t_bins = numpy.arange(numpy.amin(ts), numpy.amax(ts),float(hist_binwidth))\n",
    "n, bins = nest.raster_plot._histogram(ts, bins=t_bins)\n",
    "num_neurons = len(numpy.unique(gids))\n",
    "heights = 1000 * n / (hist_binwidth * num_neurons)\n",
    "\n",
    "pylab.bar(t_bins, heights, width=hist_binwidth, color=color_bar,edgecolor=color_edge)\n",
    "pylab.yticks([ int(x) for x in numpy.linspace(0.0, int(max(heights) * 1.1) + 5, 4) ])\n",
    "pylab.ylabel(\"Rate (Hz)\")\n",
    "pylab.xlabel(xlabel = \"Time (ms)\")\n",
    "pylab.xlim(pylab.xlim())\n",
    "pylab.axes(pylab.axes([0.1, 0.3, 0.85, 0.6]))\n",
    "\n",
    "t_bins = pd.DataFrame(t_bins)\n",
    "heights = pd.DataFrame(heights)\n",
    "PopB_hist = pd.concat([t_bins,heights],axis = 1)\n",
    "PopB_hist.columns =['time', 'heights']\n",
    "PopB_hist\n",
    "\n",
    "PopB_hist.to_csv('PopB_hist.csv', index = False, float_format = '%.2f')"
   ]
  },
  {
   "cell_type": "code",
   "execution_count": 34,
   "metadata": {},
   "outputs": [
    {
     "data": {
      "image/png": "[encoded data removed]",
      "text/plain": [
       "<Figure size 432x288 with 2 Axes>"
      ]
     },
     "metadata": {
      "needs_background": "light"
     },
     "output_type": "display_data"
    }
   ],
   "source": [
    "import pylab\n",
    "\n",
    "hist_binwidth = 5.0\n",
    "ts, gids = nest.raster_plot._from_memory(spikes_i)\n",
    "\n",
    "color_marker = \".k\"\n",
    "color_bar = \"gray\"\n",
    "color_edge = \"black\"\n",
    "\n",
    "pylab.axes([0.1, 0.1, 0.85, 0.17])\n",
    "t_bins = numpy.arange(numpy.amin(ts), numpy.amax(ts),float(hist_binwidth))\n",
    "n, bins = nest.raster_plot._histogram(ts, bins=t_bins)\n",
    "num_neurons = len(numpy.unique(gids))\n",
    "heights = 1000 * n / (hist_binwidth * num_neurons)\n",
    "\n",
    "pylab.bar(t_bins, heights, width=hist_binwidth, color=color_bar,edgecolor=color_edge)\n",
    "pylab.yticks([ int(x) for x in numpy.linspace(0.0, int(max(heights) * 1.1) + 5, 4) ])\n",
    "pylab.ylabel(\"Rate (Hz)\")\n",
    "pylab.xlabel(xlabel = \"Time (ms)\")\n",
    "pylab.xlim(pylab.xlim())\n",
    "pylab.axes(pylab.axes([0.1, 0.3, 0.85, 0.6]))\n",
    "\n",
    "t_bins = pd.DataFrame(t_bins)\n",
    "heights = pd.DataFrame(heights)\n",
    "PopI_hist = pd.concat([t_bins,heights],axis = 1)\n",
    "PopI_hist.columns =['time', 'heights']\n",
    "PopI_hist\n",
    "\n",
    "PopI_hist.to_csv('PopI_hist.csv', index = False, float_format = '%.2f')"
   ]
  },
  {
   "cell_type": "code",
   "execution_count": null,
   "metadata": {},
   "outputs": [],
   "source": []
  },
  {
   "cell_type": "code",
   "execution_count": null,
   "metadata": {},
   "outputs": [],
   "source": []
  }
 ],
 "metadata": {
  "kernelspec": {
   "display_name": "Python 3",
   "language": "python",
   "name": "python3"
  },
  "language_info": {
   "codemirror_mode": {
    "name": "ipython",
    "version": 3
   },
   "file_extension": ".py",
   "mimetype": "text/x-python",
   "name": "python",
   "nbconvert_exporter": "python",
   "pygments_lexer": "ipython3",
   "version": "3.6.9"
  }
 },
 "nbformat": 4,
 "nbformat_minor": 4
}
