{
 "cells": [
  {
   "cell_type": "code",
   "execution_count": null,
   "metadata": {},
   "outputs": [],
   "source": [
    "from simulate_network import *\n",
    "\n",
    "sim_parameters = pd.read_csv('simulation_parameters.csv', index_col=0)\n",
    "sim_col='standard'\n",
    "coherence = 0.512\n",
    "ret_vals, raster_A, raster_B, raster_In, activity, inputs = simulate_network(coherence,sim_parameters,sim_col)     \n",
    "plt.plot(activity['time'].to_numpy(), activity['activity (Hz) pop_A'].to_numpy(), color='red', label ='pop A')\n",
    "plt.plot(activity['time'].to_numpy(), activity['activity (Hz) pop_B'].to_numpy(), color='blue', label ='pop B')\n",
    "plt.plot(inputs['stimulus pop A'].to_numpy()/20, color='orange')\n",
    "plt.plot(inputs['stimulus pop B'].to_numpy()/20, color='lightblue')\n",
    "plt.legend()\n",
    "plt.show()"
   ]
  },
  {
   "cell_type": "markdown",
   "metadata": {},
   "source": [
    "#### 1) Standard behaviour with different coherence level "
   ]
  },
  {
   "cell_type": "code",
   "execution_count": null,
   "metadata": {},
   "outputs": [],
   "source": [
    "import pandas as pd\n",
    "import os\n",
    "from run_multiple_sim import run_multiple_sim\n",
    "sim_parameters = pd.read_csv('simulation_parameters.csv', index_col=0)\n",
    "root_path = os.getcwd()+'/results_new'\n",
    "\n",
    "run_multiple_sim(results_dir=root_path, n_trial = 1, mult_coherence = [0.0,0.032,0.064,0.128,0.256,0.512,-0.032,-0.064,-0.128,-0.256,-0.512], \n",
    "                    sim_parameters = sim_parameters, sim_col='standard')"
   ]
  },
  {
   "cell_type": "markdown",
   "metadata": {},
   "source": [
    "#### 2) Decrease excitatory recurrent weights"
   ]
  },
  {
   "cell_type": "code",
   "execution_count": null,
   "metadata": {},
   "outputs": [],
   "source": [
    "import pandas as pd\n",
    "import os\n",
    "from run_multiple_sim import run_multiple_sim\n",
    "sim_parameters = pd.read_csv('simulation_parameters.csv', index_col=0)\n",
    "root_path = os.getcwd()+'/results_new'\n",
    "\n",
    "run_multiple_sim(results_dir=root_path, n_trial = 1, mult_coherence = [0.0, 0.512], \n",
    "                    sim_parameters = sim_parameters, sim_col='decrease')"
   ]
  },
  {
   "cell_type": "markdown",
   "metadata": {},
   "source": [
    "#### 3) NMDA time constant reduces: same value as AMPA "
   ]
  },
  {
   "cell_type": "code",
   "execution_count": null,
   "metadata": {},
   "outputs": [],
   "source": [
    "import pandas as pd\n",
    "import os\n",
    "from run_multiple_sim import run_multiple_sim\n",
    "sim_parameters = pd.read_csv('simulation_parameters.csv', index_col=0)\n",
    "root_path = os.getcwd()+'/results_new'\n",
    "\n",
    "run_multiple_sim(results_dir=root_path, n_trial = 1, mult_coherence = [0.0, 0.512], \n",
    "                    sim_parameters = sim_parameters, sim_col='no_NMDA')"
   ]
  },
  {
   "cell_type": "markdown",
   "metadata": {},
   "source": [
    "#### 4) Different stimulus duration"
   ]
  },
  {
   "cell_type": "code",
   "execution_count": null,
   "metadata": {},
   "outputs": [],
   "source": [
    "import pandas as pd\n",
    "import os\n",
    "from run_multiple_sim import run_multiple_sim\n",
    "sim_parameters = pd.read_csv('simulation_parameters.csv', index_col=0)\n",
    "root_path = os.getcwd()+'/results_new/stim_duration'\n",
    "\n",
    "end_stim = [500.0,700.0, 900.0]\n",
    "for t_end in end_stim:\n",
    "    sim_col = 'stim_end_'+str(t_end)\n",
    "    sim_par_changed = sim_parameters['stim_dur']\n",
    "    sim_par_changed = pd.DataFrame({sim_col:sim_par_changed})\n",
    "    sim_par_changed[sim_col]['end_stim']=t_end\n",
    "    sim_par_changed[sim_col]['end_stim_rev']=t_end\n",
    "    run_multiple_sim(results_dir=root_path, n_trial = 1, mult_coherence = [0.032,0.064,0.128,0.256,0.512], \n",
    "                    sim_parameters = sim_par_changed, sim_col=sim_col)"
   ]
  },
  {
   "cell_type": "markdown",
   "metadata": {},
   "source": [
    "#### 5) Different intensity of stimulus reverse after 1200 ms "
   ]
  },
  {
   "cell_type": "code",
   "execution_count": null,
   "metadata": {},
   "outputs": [],
   "source": [
    "import pandas as pd\n",
    "import os\n",
    "from run_multiple_sim import run_multiple_sim\n",
    "sim_parameters = pd.read_csv('simulation_parameters.csv', index_col=0)\n",
    "root_path = os.getcwd()+'/results_new/stim_reverse'\n",
    "\n",
    "c_stim_rev = [-0.032,-0.064,-0.128,-0.256,-0.512,-0.7,-0.8,-1.0]\n",
    "for c_rev in c_stim_rev:\n",
    "    sim_col = 'stim_rev'+str(c_rev)\n",
    "    sim_par_changed = sim_parameters['stim_reverse']\n",
    "    sim_par_changed = pd.DataFrame({sim_col:sim_par_changed})\n",
    "    sim_par_changed[sim_col]['coh_rev']=c_rev\n",
    "    run_multiple_sim(results_dir=root_path, n_trial = 100, mult_coherence = [0.128], \n",
    "                    sim_parameters = sim_par_changed, sim_col=sim_col)"
   ]
  },
  {
   "cell_type": "markdown",
   "metadata": {},
   "source": [
    "#### 6) Different time to reverse the stimulus at intensity -0.8"
   ]
  },
  {
   "cell_type": "code",
   "execution_count": null,
   "metadata": {},
   "outputs": [],
   "source": [
    "import pandas as pd\n",
    "import os\n",
    "from run_multiple_sim import run_multiple_sim\n",
    "sim_parameters = pd.read_csv('simulation_parameters.csv', index_col=0)\n",
    "root_path = os.getcwd()+'/results_new/t_reverse'\n",
    "\n",
    "multiple_t_rev = [300.0,500.0,700.0, 900.0, 1000.0]\n",
    "for t_rev in multiple_t_rev:\n",
    "    sim_col = 'stim_rev'+str(t_rev)\n",
    "    sim_par_changed = sim_parameters['t_reverse']\n",
    "    sim_par_changed = pd.DataFrame({sim_col:sim_par_changed})\n",
    "    sim_par_changed[sim_col]['end_stim']=t_rev\n",
    "    run_multiple_sim(results_dir=root_path, n_trial = 100, mult_coherence = [0.128], \n",
    "                    sim_parameters = sim_par_changed, sim_col=sim_col)"
   ]
  },
  {
   "cell_type": "code",
   "execution_count": null,
   "metadata": {},
   "outputs": [],
   "source": []
  }
 ],
 "metadata": {
  "kernelspec": {
   "display_name": "Python 3",
   "language": "python",
   "name": "python3"
  },
  "language_info": {
   "codemirror_mode": {
    "name": "ipython",
    "version": 3
   },
   "file_extension": ".py",
   "mimetype": "text/x-python",
   "name": "python",
   "nbconvert_exporter": "python",
   "pygments_lexer": "ipython3",
   "version": "3.6.9"
  }
 },
 "nbformat": 4,
 "nbformat_minor": 4
}
